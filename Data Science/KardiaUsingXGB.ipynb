{
  "nbformat": 4,
  "nbformat_minor": 0,
  "metadata": {
    "colab": {
      "name": "KardiaUsingXGB.ipynb",
      "provenance": []
    },
    "kernelspec": {
      "name": "python3",
      "display_name": "Python 3"
    }
  },
  "cells": [
    {
      "cell_type": "code",
      "metadata": {
        "id": "7UVbRW9JW958"
      },
      "source": [
        "import numpy as np              #importing libraries\n",
        "import pandas as pd\n",
        "import matplotlib.pyplot as plt\n",
        "import seaborn as sns"
      ],
      "execution_count": null,
      "outputs": []
    },
    {
      "cell_type": "code",
      "metadata": {
        "id": "2DV9Y5PZXiv7"
      },
      "source": [
        "data = pd.read_csv('/content/drive/MyDrive/IIT Stuffs /SDGP/Data Science/Dataset/MyCopyOf_pone.0210602.s001.csv') #reading data"
      ],
      "execution_count": null,
      "outputs": []
    },
    {
      "cell_type": "code",
      "metadata": {
        "id": "IWe-qRGLXviV"
      },
      "source": [
        ""
      ],
      "execution_count": null,
      "outputs": []
    },
    {
      "cell_type": "code",
      "metadata": {
        "colab": {
          "base_uri": "https://localhost:8080/"
        },
        "id": "BVPYANYXX21Z",
        "outputId": "b552507b-68c2-43b4-b942-586ef084aacc"
      },
      "source": [
        "data.info() #checking for null values"
      ],
      "execution_count": null,
      "outputs": [
        {
          "output_type": "stream",
          "text": [
            "<class 'pandas.core.frame.DataFrame'>\n",
            "RangeIndex: 299 entries, 0 to 298\n",
            "Data columns (total 13 columns):\n",
            " #   Column             Non-Null Count  Dtype  \n",
            "---  ------             --------------  -----  \n",
            " 0   TIME               299 non-null    int64  \n",
            " 1   Event              299 non-null    int64  \n",
            " 2   Gender             299 non-null    int64  \n",
            " 3   Smoking            299 non-null    int64  \n",
            " 4   Diabetes           299 non-null    int64  \n",
            " 5   BP                 299 non-null    int64  \n",
            " 6   Anaemia            299 non-null    int64  \n",
            " 7   Age                299 non-null    float64\n",
            " 8   Ejection.Fraction  299 non-null    int64  \n",
            " 9   Sodium             299 non-null    int64  \n",
            " 10  Creatinine         299 non-null    float64\n",
            " 11  Pletelets          299 non-null    float64\n",
            " 12  CPK                299 non-null    int64  \n",
            "dtypes: float64(3), int64(10)\n",
            "memory usage: 30.5 KB\n"
          ],
          "name": "stdout"
        }
      ]
    },
    {
      "cell_type": "code",
      "metadata": {
        "colab": {
          "base_uri": "https://localhost:8080/"
        },
        "id": "LznU5J2pX8vw",
        "outputId": "235b92cd-3884-40ae-909d-8a01860db10d"
      },
      "source": [
        "data.duplicated().sum() #checking for duplicate values"
      ],
      "execution_count": null,
      "outputs": [
        {
          "output_type": "execute_result",
          "data": {
            "text/plain": [
              "0"
            ]
          },
          "metadata": {
            "tags": []
          },
          "execution_count": 5
        }
      ]
    },
    {
      "cell_type": "code",
      "metadata": {
        "colab": {
          "base_uri": "https://localhost:8080/",
          "height": 334
        },
        "id": "dLTousRJYDEz",
        "outputId": "b136571d-7ed9-49b1-f9d5-fc561eb85975"
      },
      "source": [
        "g = sns.countplot(data['Event']) #checking for imbalance\n",
        "plt.show()"
      ],
      "execution_count": null,
      "outputs": [
        {
          "output_type": "stream",
          "text": [
            "/usr/local/lib/python3.7/dist-packages/seaborn/_decorators.py:43: FutureWarning: Pass the following variable as a keyword arg: x. From version 0.12, the only valid positional argument will be `data`, and passing other arguments without an explicit keyword will result in an error or misinterpretation.\n",
            "  FutureWarning\n"
          ],
          "name": "stderr"
        },
        {
          "output_type": "display_data",
          "data": {
            "image/png": "[encoded data removed]",
            "text/plain": [
              "<Figure size 432x288 with 1 Axes>"
            ]
          },
          "metadata": {
            "tags": [],
            "needs_background": "light"
          }
        }
      ]
    },
    {
      "cell_type": "code",
      "metadata": {
        "id": "6n1JjBVSYWZB"
      },
      "source": [
        "x = data[[c for c in data.columns if c != 'Event']] #separating features\n",
        "y = data['Event'] #separating target"
      ],
      "execution_count": null,
      "outputs": []
    },
    {
      "cell_type": "code",
      "metadata": {
        "colab": {
          "base_uri": "https://localhost:8080/"
        },
        "id": "5kAJ4Ji9Y200",
        "outputId": "0a2a3592-927a-410c-9d5a-34a407e749bb"
      },
      "source": [
        "from imblearn.over_sampling import SMOTE #importing libraries for oversampling data\n",
        "from collections import Counter\n",
        "sm = SMOTE()\n",
        "x_smote, y_smote = sm.fit_resample(x, y)\n",
        "\n",
        "print('Original dataset shape', Counter(y))\n",
        "print('Resample dataset shape', Counter(y_smote))"
      ],
      "execution_count": null,
      "outputs": [
        {
          "output_type": "stream",
          "text": [
            "/usr/local/lib/python3.7/dist-packages/sklearn/externals/six.py:31: FutureWarning: The module is deprecated in version 0.21 and will be removed in version 0.23 since we've dropped support for Python 2.7. Please rely on the official version of six (https://pypi.org/project/six/).\n",
            "  \"(https://pypi.org/project/six/).\", FutureWarning)\n"
          ],
          "name": "stderr"
        },
        {
          "output_type": "stream",
          "text": [
            "Original dataset shape Counter({0: 203, 1: 96})\n",
            "Resample dataset shape Counter({0: 203, 1: 203})\n"
          ],
          "name": "stdout"
        },
        {
          "output_type": "stream",
          "text": [
            "/usr/local/lib/python3.7/dist-packages/sklearn/utils/deprecation.py:144: FutureWarning: The sklearn.neighbors.base module is  deprecated in version 0.22 and will be removed in version 0.24. The corresponding classes / functions should instead be imported from sklearn.neighbors. Anything that cannot be imported from sklearn.neighbors is now part of the private API.\n",
            "  warnings.warn(message, FutureWarning)\n",
            "/usr/local/lib/python3.7/dist-packages/sklearn/utils/deprecation.py:87: FutureWarning: Function safe_indexing is deprecated; safe_indexing is deprecated in version 0.22 and will be removed in version 0.24.\n",
            "  warnings.warn(msg, category=FutureWarning)\n"
          ],
          "name": "stderr"
        }
      ]
    },
    {
      "cell_type": "code",
      "metadata": {
        "id": "hredTYjCZmDn"
      },
      "source": [
        "from sklearn.preprocessing import StandardScaler\n",
        "from sklearn.model_selection import train_test_split\n",
        "\n",
        "inp_data = data.drop(data[['Event']], axis=1)\n",
        "out_data = data[['Event']]\n",
        "\n",
        "scaler = StandardScaler()\n",
        "inp_data = scaler.fit_transform(inp_data)\n",
        "\n",
        "X_train, X_test, y_train, y_test = train_test_split(inp_data, out_data, test_size=0.2, random_state=42)"
      ],
      "execution_count": null,
      "outputs": []
    },
    {
      "cell_type": "code",
      "metadata": {
        "colab": {
          "base_uri": "https://localhost:8080/"
        },
        "id": "BZeCCrwWbT7y",
        "outputId": "e1dced20-f269-430d-fea9-ddc681c152d8"
      },
      "source": [
        "print(\"X_train Shape : \", X_train.shape)\n",
        "print(\"X_test Shape  : \", X_test.shape)\n",
        "print(\"y_train Shape : \", y_train.shape)\n",
        "print(\"y_test Shape  : \", y_test.shape)"
      ],
      "execution_count": null,
      "outputs": [
        {
          "output_type": "stream",
          "text": [
            "X_train Shape :  (239, 12)\n",
            "X_test Shape  :  (60, 12)\n",
            "y_train Shape :  (239, 1)\n",
            "y_test Shape  :  (60, 1)\n"
          ],
          "name": "stdout"
        }
      ]
    },
    {
      "cell_type": "code",
      "metadata": {
        "colab": {
          "base_uri": "https://localhost:8080/"
        },
        "id": "yINBlsOCcUZo",
        "outputId": "1a73a4a2-9f3c-46b7-cb85-ed7e2464c673"
      },
      "source": [
        "from xgboost import XGBClassifier \n",
        "from sklearn.metrics import accuracy_score\n",
        "from sklearn.metrics import classification_report\n",
        "\n",
        "clf = XGBClassifier() \n",
        "clf.fit(X_train, y_train) \n",
        "\n",
        "y_pred = clf.predict(X_test)\n",
        "\n",
        "print('Accuracy Score: {:.2f}'.format(accuracy_score(y_test, y_pred)))\n",
        "print(\"\\n\",classification_report(y_pred, y_test))"
      ],
      "execution_count": null,
      "outputs": [
        {
          "output_type": "stream",
          "text": [
            "Accuracy Score: 0.87\n",
            "\n",
            "               precision    recall  f1-score   support\n",
            "\n",
            "           0       0.95      0.86      0.90        43\n",
            "           1       0.71      0.88      0.79        17\n",
            "\n",
            "    accuracy                           0.87        60\n",
            "   macro avg       0.83      0.87      0.85        60\n",
            "weighted avg       0.88      0.87      0.87        60\n",
            "\n"
          ],
          "name": "stdout"
        },
        {
          "output_type": "stream",
          "text": [
            "/usr/local/lib/python3.7/dist-packages/sklearn/preprocessing/_label.py:235: DataConversionWarning: A column-vector y was passed when a 1d array was expected. Please change the shape of y to (n_samples, ), for example using ravel().\n",
            "  y = column_or_1d(y, warn=True)\n",
            "/usr/local/lib/python3.7/dist-packages/sklearn/preprocessing/_label.py:268: DataConversionWarning: A column-vector y was passed when a 1d array was expected. Please change the shape of y to (n_samples, ), for example using ravel().\n",
            "  y = column_or_1d(y, warn=True)\n"
          ],
          "name": "stderr"
        }
      ]
    }
  ]
}