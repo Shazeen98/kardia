{
  "nbformat": 4,
  "nbformat_minor": 0,
  "metadata": {
    "colab": {
      "name": "KardiaUsingGBM.ipynb",
      "provenance": []
    },
    "kernelspec": {
      "name": "python3",
      "display_name": "Python 3"
    }
  },
  "cells": [
    {
      "cell_type": "code",
      "metadata": {
        "id": "qMm9NaoQzNCa"
      },
      "source": [
        "import numpy as np              #importing libraries\r\n",
        "import pandas as pd\r\n",
        "import matplotlib.pyplot as plt\r\n",
        "import seaborn as sns"
      ],
      "execution_count": 3,
      "outputs": []
    },
    {
      "cell_type": "code",
      "metadata": {
        "id": "e3wIX5Y61Dlq"
      },
      "source": [
        "data = pd.read_csv('/content/drive/MyDrive/IIT Stuffs /SDGP/Data Science/Dataset/MyCopyOf_pone.0210602.s001.csv') #reading data"
      ],
      "execution_count": 4,
      "outputs": []
    },
    {
      "cell_type": "code",
      "metadata": {
        "colab": {
          "base_uri": "https://localhost:8080/",
          "height": 415
        },
        "id": "5GSdKGhh1U0A",
        "outputId": "89cea777-471d-4af1-cb58-f5c436be5cfc"
      },
      "source": [
        "data"
      ],
      "execution_count": 5,
      "outputs": [
        {
          "output_type": "execute_result",
          "data": {
            "text/html": [
              "<div>\n",
              "<style scoped>\n",
              "    .dataframe tbody tr th:only-of-type {\n",
              "        vertical-align: middle;\n",
              "    }\n",
              "\n",
              "    .dataframe tbody tr th {\n",
              "        vertical-align: top;\n",
              "    }\n",
              "\n",
              "    .dataframe thead th {\n",
              "        text-align: right;\n",
              "    }\n",
              "</style>\n",
              "<table border=\"1\" class=\"dataframe\">\n",
              "  <thead>\n",
              "    <tr style=\"text-align: right;\">\n",
              "      <th></th>\n",
              "      <th>TIME</th>\n",
              "      <th>Event</th>\n",
              "      <th>Gender</th>\n",
              "      <th>Smoking</th>\n",
              "      <th>Diabetes</th>\n",
              "      <th>BP</th>\n",
              "      <th>Anaemia</th>\n",
              "      <th>Age</th>\n",
              "      <th>Ejection.Fraction</th>\n",
              "      <th>Sodium</th>\n",
              "      <th>Creatinine</th>\n",
              "      <th>Pletelets</th>\n",
              "      <th>CPK</th>\n",
              "    </tr>\n",
              "  </thead>\n",
              "  <tbody>\n",
              "    <tr>\n",
              "      <th>0</th>\n",
              "      <td>97</td>\n",
              "      <td>0</td>\n",
              "      <td>0</td>\n",
              "      <td>0</td>\n",
              "      <td>0</td>\n",
              "      <td>0</td>\n",
              "      <td>1</td>\n",
              "      <td>43.0</td>\n",
              "      <td>50</td>\n",
              "      <td>135</td>\n",
              "      <td>1.30</td>\n",
              "      <td>237000.00</td>\n",
              "      <td>358</td>\n",
              "    </tr>\n",
              "    <tr>\n",
              "      <th>1</th>\n",
              "      <td>180</td>\n",
              "      <td>0</td>\n",
              "      <td>1</td>\n",
              "      <td>1</td>\n",
              "      <td>1</td>\n",
              "      <td>0</td>\n",
              "      <td>1</td>\n",
              "      <td>73.0</td>\n",
              "      <td>30</td>\n",
              "      <td>142</td>\n",
              "      <td>1.18</td>\n",
              "      <td>160000.00</td>\n",
              "      <td>231</td>\n",
              "    </tr>\n",
              "    <tr>\n",
              "      <th>2</th>\n",
              "      <td>31</td>\n",
              "      <td>1</td>\n",
              "      <td>1</td>\n",
              "      <td>1</td>\n",
              "      <td>0</td>\n",
              "      <td>1</td>\n",
              "      <td>0</td>\n",
              "      <td>70.0</td>\n",
              "      <td>20</td>\n",
              "      <td>134</td>\n",
              "      <td>1.83</td>\n",
              "      <td>263358.03</td>\n",
              "      <td>582</td>\n",
              "    </tr>\n",
              "    <tr>\n",
              "      <th>3</th>\n",
              "      <td>87</td>\n",
              "      <td>0</td>\n",
              "      <td>1</td>\n",
              "      <td>0</td>\n",
              "      <td>0</td>\n",
              "      <td>0</td>\n",
              "      <td>1</td>\n",
              "      <td>65.0</td>\n",
              "      <td>25</td>\n",
              "      <td>141</td>\n",
              "      <td>1.10</td>\n",
              "      <td>298000.00</td>\n",
              "      <td>305</td>\n",
              "    </tr>\n",
              "    <tr>\n",
              "      <th>4</th>\n",
              "      <td>113</td>\n",
              "      <td>0</td>\n",
              "      <td>1</td>\n",
              "      <td>0</td>\n",
              "      <td>0</td>\n",
              "      <td>0</td>\n",
              "      <td>0</td>\n",
              "      <td>64.0</td>\n",
              "      <td>60</td>\n",
              "      <td>137</td>\n",
              "      <td>1.00</td>\n",
              "      <td>242000.00</td>\n",
              "      <td>1610</td>\n",
              "    </tr>\n",
              "    <tr>\n",
              "      <th>...</th>\n",
              "      <td>...</td>\n",
              "      <td>...</td>\n",
              "      <td>...</td>\n",
              "      <td>...</td>\n",
              "      <td>...</td>\n",
              "      <td>...</td>\n",
              "      <td>...</td>\n",
              "      <td>...</td>\n",
              "      <td>...</td>\n",
              "      <td>...</td>\n",
              "      <td>...</td>\n",
              "      <td>...</td>\n",
              "      <td>...</td>\n",
              "    </tr>\n",
              "    <tr>\n",
              "      <th>294</th>\n",
              "      <td>250</td>\n",
              "      <td>0</td>\n",
              "      <td>0</td>\n",
              "      <td>0</td>\n",
              "      <td>1</td>\n",
              "      <td>0</td>\n",
              "      <td>0</td>\n",
              "      <td>45.0</td>\n",
              "      <td>55</td>\n",
              "      <td>132</td>\n",
              "      <td>1.00</td>\n",
              "      <td>543000.00</td>\n",
              "      <td>582</td>\n",
              "    </tr>\n",
              "    <tr>\n",
              "      <th>295</th>\n",
              "      <td>244</td>\n",
              "      <td>0</td>\n",
              "      <td>0</td>\n",
              "      <td>0</td>\n",
              "      <td>1</td>\n",
              "      <td>0</td>\n",
              "      <td>0</td>\n",
              "      <td>51.0</td>\n",
              "      <td>40</td>\n",
              "      <td>134</td>\n",
              "      <td>0.90</td>\n",
              "      <td>221000.00</td>\n",
              "      <td>582</td>\n",
              "    </tr>\n",
              "    <tr>\n",
              "      <th>296</th>\n",
              "      <td>14</td>\n",
              "      <td>1</td>\n",
              "      <td>1</td>\n",
              "      <td>0</td>\n",
              "      <td>0</td>\n",
              "      <td>0</td>\n",
              "      <td>0</td>\n",
              "      <td>45.0</td>\n",
              "      <td>14</td>\n",
              "      <td>127</td>\n",
              "      <td>0.80</td>\n",
              "      <td>166000.00</td>\n",
              "      <td>582</td>\n",
              "    </tr>\n",
              "    <tr>\n",
              "      <th>297</th>\n",
              "      <td>80</td>\n",
              "      <td>0</td>\n",
              "      <td>1</td>\n",
              "      <td>0</td>\n",
              "      <td>1</td>\n",
              "      <td>0</td>\n",
              "      <td>0</td>\n",
              "      <td>60.0</td>\n",
              "      <td>45</td>\n",
              "      <td>133</td>\n",
              "      <td>1.00</td>\n",
              "      <td>297000.00</td>\n",
              "      <td>897</td>\n",
              "    </tr>\n",
              "    <tr>\n",
              "      <th>298</th>\n",
              "      <td>16</td>\n",
              "      <td>0</td>\n",
              "      <td>0</td>\n",
              "      <td>0</td>\n",
              "      <td>0</td>\n",
              "      <td>1</td>\n",
              "      <td>1</td>\n",
              "      <td>65.0</td>\n",
              "      <td>25</td>\n",
              "      <td>137</td>\n",
              "      <td>1.30</td>\n",
              "      <td>276000.00</td>\n",
              "      <td>52</td>\n",
              "    </tr>\n",
              "  </tbody>\n",
              "</table>\n",
              "<p>299 rows × 13 columns</p>\n",
              "</div>"
            ],
            "text/plain": [
              "     TIME  Event  Gender  Smoking  ...  Sodium  Creatinine  Pletelets   CPK\n",
              "0      97      0       0        0  ...     135        1.30  237000.00   358\n",
              "1     180      0       1        1  ...     142        1.18  160000.00   231\n",
              "2      31      1       1        1  ...     134        1.83  263358.03   582\n",
              "3      87      0       1        0  ...     141        1.10  298000.00   305\n",
              "4     113      0       1        0  ...     137        1.00  242000.00  1610\n",
              "..    ...    ...     ...      ...  ...     ...         ...        ...   ...\n",
              "294   250      0       0        0  ...     132        1.00  543000.00   582\n",
              "295   244      0       0        0  ...     134        0.90  221000.00   582\n",
              "296    14      1       1        0  ...     127        0.80  166000.00   582\n",
              "297    80      0       1        0  ...     133        1.00  297000.00   897\n",
              "298    16      0       0        0  ...     137        1.30  276000.00    52\n",
              "\n",
              "[299 rows x 13 columns]"
            ]
          },
          "metadata": {
            "tags": []
          },
          "execution_count": 5
        }
      ]
    },
    {
      "cell_type": "code",
      "metadata": {
        "colab": {
          "base_uri": "https://localhost:8080/"
        },
        "id": "WDctL6BL1cXa",
        "outputId": "5688601d-befe-4de0-92b5-50e3d1742231"
      },
      "source": [
        "data.info() #checking for null values"
      ],
      "execution_count": 6,
      "outputs": [
        {
          "output_type": "stream",
          "text": [
            "<class 'pandas.core.frame.DataFrame'>\n",
            "RangeIndex: 299 entries, 0 to 298\n",
            "Data columns (total 13 columns):\n",
            " #   Column             Non-Null Count  Dtype  \n",
            "---  ------             --------------  -----  \n",
            " 0   TIME               299 non-null    int64  \n",
            " 1   Event              299 non-null    int64  \n",
            " 2   Gender             299 non-null    int64  \n",
            " 3   Smoking            299 non-null    int64  \n",
            " 4   Diabetes           299 non-null    int64  \n",
            " 5   BP                 299 non-null    int64  \n",
            " 6   Anaemia            299 non-null    int64  \n",
            " 7   Age                299 non-null    float64\n",
            " 8   Ejection.Fraction  299 non-null    int64  \n",
            " 9   Sodium             299 non-null    int64  \n",
            " 10  Creatinine         299 non-null    float64\n",
            " 11  Pletelets          299 non-null    float64\n",
            " 12  CPK                299 non-null    int64  \n",
            "dtypes: float64(3), int64(10)\n",
            "memory usage: 30.5 KB\n"
          ],
          "name": "stdout"
        }
      ]
    },
    {
      "cell_type": "code",
      "metadata": {
        "colab": {
          "base_uri": "https://localhost:8080/"
        },
        "id": "vd3EQJ1u1x8l",
        "outputId": "b3ee6344-ee46-45e4-958b-721a1ff536c9"
      },
      "source": [
        "data.duplicated().sum() #checking for duplicate values"
      ],
      "execution_count": 7,
      "outputs": [
        {
          "output_type": "execute_result",
          "data": {
            "text/plain": [
              "0"
            ]
          },
          "metadata": {
            "tags": []
          },
          "execution_count": 7
        }
      ]
    },
    {
      "cell_type": "code",
      "metadata": {
        "colab": {
          "base_uri": "https://localhost:8080/",
          "height": 334
        },
        "id": "RCX6PFM314vE",
        "outputId": "fc7e4cdd-1afe-4de2-9457-9144007c4e1d"
      },
      "source": [
        "g = sns.countplot(data['Event']) #checking for imbalance\r\n",
        "plt.show()"
      ],
      "execution_count": 8,
      "outputs": [
        {
          "output_type": "stream",
          "text": [
            "/usr/local/lib/python3.7/dist-packages/seaborn/_decorators.py:43: FutureWarning: Pass the following variable as a keyword arg: x. From version 0.12, the only valid positional argument will be `data`, and passing other arguments without an explicit keyword will result in an error or misinterpretation.\n",
            "  FutureWarning\n"
          ],
          "name": "stderr"
        },
        {
          "output_type": "display_data",
          "data": {
            "image/png": "[encoded data removed]",
            "text/plain": [
              "<Figure size 432x288 with 1 Axes>"
            ]
          },
          "metadata": {
            "tags": [],
            "needs_background": "light"
          }
        }
      ]
    },
    {
      "cell_type": "code",
      "metadata": {
        "id": "CZsE16tp2Q6g"
      },
      "source": [
        "x = data[[c for c in data.columns if c != 'Event']] #separating features\r\n",
        "y = data['Event'] #separating target"
      ],
      "execution_count": 11,
      "outputs": []
    },
    {
      "cell_type": "code",
      "metadata": {
        "colab": {
          "base_uri": "https://localhost:8080/"
        },
        "id": "UtW-gVgk2W7F",
        "outputId": "c045bef4-a8cf-43b4-8669-60c727ee16f3"
      },
      "source": [
        "from imblearn.over_sampling import SMOTE #importing libraries for oversampling data\r\n",
        "from collections import Counter\r\n",
        "sm = SMOTE()\r\n",
        "x_smote, y_smote = sm.fit_resample(x, y)\r\n",
        "\r\n",
        "print('Original dataset shape', Counter(y))\r\n",
        "print('Resample dataset shape', Counter(y_smote))"
      ],
      "execution_count": 12,
      "outputs": [
        {
          "output_type": "stream",
          "text": [
            "Original dataset shape Counter({0: 203, 1: 96})\n",
            "Resample dataset shape Counter({0: 203, 1: 203})\n"
          ],
          "name": "stdout"
        },
        {
          "output_type": "stream",
          "text": [
            "/usr/local/lib/python3.7/dist-packages/sklearn/utils/deprecation.py:87: FutureWarning: Function safe_indexing is deprecated; safe_indexing is deprecated in version 0.22 and will be removed in version 0.24.\n",
            "  warnings.warn(msg, category=FutureWarning)\n"
          ],
          "name": "stderr"
        }
      ]
    },
    {
      "cell_type": "code",
      "metadata": {
        "id": "eAEwZHC92eFE"
      },
      "source": [
        "from sklearn.preprocessing import StandardScaler\r\n",
        "from sklearn.model_selection import train_test_split\r\n",
        "\r\n",
        "inp_data = data.drop(data[['Event']], axis=1)\r\n",
        "out_data = data[['Event']]\r\n",
        "\r\n",
        "scaler = StandardScaler()\r\n",
        "inp_data = scaler.fit_transform(inp_data)\r\n",
        "\r\n",
        "X_train, X_test, y_train, y_test = train_test_split(inp_data, out_data, test_size=0.2, random_state=42)"
      ],
      "execution_count": 15,
      "outputs": []
    },
    {
      "cell_type": "code",
      "metadata": {
        "colab": {
          "base_uri": "https://localhost:8080/"
        },
        "id": "lyZx-95k2lS7",
        "outputId": "3300609c-7a56-4cad-b596-e5b434e7cf46"
      },
      "source": [
        "print(\"X_train Shape : \", X_train.shape)\r\n",
        "print(\"X_test Shape  : \", X_test.shape)\r\n",
        "print(\"y_train Shape : \", y_train.shape)\r\n",
        "print(\"y_test Shape  : \", y_test.shape)"
      ],
      "execution_count": 16,
      "outputs": [
        {
          "output_type": "stream",
          "text": [
            "X_train Shape :  (239, 12)\n",
            "X_test Shape  :  (60, 12)\n",
            "y_train Shape :  (239, 1)\n",
            "y_test Shape  :  (60, 1)\n"
          ],
          "name": "stdout"
        }
      ]
    },
    {
      "cell_type": "code",
      "metadata": {
        "colab": {
          "base_uri": "https://localhost:8080/"
        },
        "id": "Y-8MqRh6CLbn",
        "outputId": "de4d7f5c-d3f3-4322-c0ca-41238a0f6032"
      },
      "source": [
        "from sklearn.ensemble import GradientBoostingClassifier\r\n",
        "from sklearn.metrics import accuracy_score\r\n",
        "from sklearn.metrics import classification_report\r\n",
        "\r\n",
        "clf = GradientBoostingClassifier() \r\n",
        "clf.fit(X_train, y_train) \r\n",
        "\r\n",
        "y_pred = clf.predict(X_test)\r\n",
        "\r\n",
        "print('Accuracy Score: {:.2f}'.format(accuracy_score(y_test, y_pred)))\r\n",
        "print(\"\\n\",classification_report(y_pred, y_test))"
      ],
      "execution_count": 17,
      "outputs": [
        {
          "output_type": "stream",
          "text": [
            "Accuracy Score: 0.85\n",
            "\n",
            "               precision    recall  f1-score   support\n",
            "\n",
            "           0       0.92      0.86      0.89        42\n",
            "           1       0.71      0.83      0.77        18\n",
            "\n",
            "    accuracy                           0.85        60\n",
            "   macro avg       0.82      0.85      0.83        60\n",
            "weighted avg       0.86      0.85      0.85        60\n",
            "\n"
          ],
          "name": "stdout"
        },
        {
          "output_type": "stream",
          "text": [
            "/usr/local/lib/python3.7/dist-packages/sklearn/ensemble/_gb.py:1454: DataConversionWarning: A column-vector y was passed when a 1d array was expected. Please change the shape of y to (n_samples, ), for example using ravel().\n",
            "  y = column_or_1d(y, warn=True)\n"
          ],
          "name": "stderr"
        }
      ]
    }
  ]
}